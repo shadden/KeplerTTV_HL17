{
 "cells": [
  {
   "cell_type": "code",
   "execution_count": null,
   "id": "58edc224-e799-436d-8b9f-1a1f627e6e2d",
   "metadata": {},
   "outputs": [],
   "source": [
    "import numpy as np\n",
    "import matplotlib.pyplot as plt\n",
    "from ttv2fast2furious.kepler import KOISystemObservations\n",
    "import ttvfast\n",
    "import h5py\n",
    "h5data = h5py.File(\"/Users/shadden/Projects/00_Codes_And_Data/HL17_Posteriors/NBody_MCMC_Posteriors.hdf5\")\n",
    "import sys\n",
    "sys.path.append(\"../01_code/\")\n",
    "from HL17_posterior_to_rb_sim import *"
   ]
  },
  {
   "cell_type": "code",
   "execution_count": null,
   "id": "526df06d-b954-4934-9186-e5e88e933937",
   "metadata": {},
   "outputs": [],
   "source": [
    "#KOI_num,kepler_name = 707, \"Kepler-33\"\n",
    "KOI_num,kepler_name = 157, \"Kepler-11\"\n",
    "#KOI_num,kepler_name = 377, \"Kepler-9\"\n",
    "observations = KOISystemObservations(KOI_num)\n",
    "mcmc_data = h5data[kepler_name]['DefaultPriors']['PosteriorSample']"
   ]
  },
  {
   "cell_type": "code",
   "execution_count": null,
   "id": "283927d9-955c-43f5-b7d4-91ff06c1a201",
   "metadata": {},
   "outputs": [],
   "source": [
    "# periods of planets in observed data\n",
    "obs_periods = [o.linear_best_fit()[1] for o in observations.values()]\n",
    "\n",
    "# Periods from MCMC data\n",
    "data_periods = mcmc_data[0,1::5]\n",
    "\n",
    "# Number of planets in ttv fit\n",
    "Nplanets = len(data_periods)\n",
    "\n",
    "# put the observational data in to correct order\n",
    "observations_list = [list(observations.values())[np.argmin(np.abs(obs_periods - data_p))] for data_p in data_periods]\n",
    "\n",
    "# minimum and maximum observed transit times\n",
    "tmin,tmax = np.min([np.min(obs.times) for obs in observations_list]),np.max([np.max(obs.times) for obs in observations_list])\n",
    "\n",
    "# get random posterior sample \n",
    "mcmc_sample = mcmc_data[np.random.randint(0,len(mcmc_data))]\n",
    "# generate TTVFast input parameters\n",
    "params,epoch = hdf5row_to_ttvfast_params_and_epoch(mcmc_sample)\n",
    "# compute transit times\n",
    "times = ParamsToTransitTimes(Nplanets,params,tmax,epoch=epoch,Mstar=1)"
   ]
  },
  {
   "cell_type": "code",
   "execution_count": null,
   "id": "664a2a07-6171-4a6d-a2f1-58423c9c3d2b",
   "metadata": {},
   "outputs": [],
   "source": [
    "# plot observations versus calculated times\n",
    "fig,ax = plt.subplots(Nplanets,1,sharex=True)\n",
    "for i in range(Nplanets):\n",
    "    times_calc = times[i]\n",
    "    obs = observations_list[i]\n",
    "    n = obs.transit_numbers[0] + np.arange(len(times_calc))\n",
    "    t0,p = obs.linear_best_fit()\n",
    "    dt = times_calc - p * n - t0\n",
    "    l, = ax[i].plot(times_calc,dt)\n",
    "    ax[i].errorbar(obs.times,obs.linear_fit_residuals(),obs.uncertainties,fmt='o',color=l.get_color())"
   ]
  },
  {
   "cell_type": "code",
   "execution_count": null,
   "id": "8b926932-a3e6-406d-a728-ccd10fa12461",
   "metadata": {},
   "outputs": [],
   "source": [
    "sim = ttv_fast_params_to_rebound_simulation(params,epoch)\n",
    "rb.OrbitPlot(sim,projection='zx')\n",
    "ax =plt.gca()\n",
    "ax.set_xlabel(\"z\")\n",
    "ax.set_ylabel(\"x\")"
   ]
  },
  {
   "cell_type": "code",
   "execution_count": null,
   "id": "b1d36e38-57aa-4891-91a9-f64a4ea7bcde",
   "metadata": {},
   "outputs": [],
   "source": []
  }
 ],
 "metadata": {
  "kernelspec": {
   "display_name": "Python 3 (ipykernel)",
   "language": "python",
   "name": "python3"
  },
  "language_info": {
   "codemirror_mode": {
    "name": "ipython",
    "version": 3
   },
   "file_extension": ".py",
   "mimetype": "text/x-python",
   "name": "python",
   "nbconvert_exporter": "python",
   "pygments_lexer": "ipython3",
   "version": "3.11.9"
  }
 },
 "nbformat": 4,
 "nbformat_minor": 5
}
